{
 "cells": [
  {
   "cell_type": "markdown",
   "metadata": {},
   "source": [
    "### Coding Neurons and Layers"
   ]
  },
  {
   "cell_type": "code",
   "execution_count": 1,
   "metadata": {},
   "outputs": [
    {
     "name": "stdout",
     "output_type": "stream",
     "text": [
      "2.3\n"
     ]
    }
   ],
   "source": [
    "inputs = [1,2,3]\n",
    "weights = [0.2,0.8,-0.5]\n",
    "bias = 2\n",
    "\n",
    "outputs = (inputs[0] * weights[0] + inputs[1] * weights[1] + inputs[2] * weights[2] + bias)\n",
    "\n",
    "print(outputs)"
   ]
  },
  {
   "cell_type": "markdown",
   "metadata": {},
   "source": [
    "#### coding our second neuron with 4 inputs"
   ]
  },
  {
   "cell_type": "code",
   "execution_count": 3,
   "metadata": {},
   "outputs": [
    {
     "name": "stdout",
     "output_type": "stream",
     "text": [
      "0.8\n"
     ]
    }
   ],
   "source": [
    "inputs = [1,2,3,4]\n",
    "weights = [0.2,0.8,-0.5,0.3]\n",
    "bias = 2\n",
    "\n",
    "outputs = (inputs[0] * weights[0] + inputs[1] * weights[1] + inputs[2] * weights[2] + inputs[2] * weights[2] + bias)\n",
    "\n",
    "print(outputs)\n",
    "\n"
   ]
  },
  {
   "cell_type": "code",
   "execution_count": null,
   "metadata": {},
   "outputs": [],
   "source": [
    "# coding the first layer of a neural network\n",
    "\n",
    "inputs = [1,2,3,2.5]\n",
    "\n",
    "weights = [[0.2,0.8,-0.5,0.3],\n",
    "              [0.5,-0.91,0.26,-0.5],\n",
    "              [-0.26,-0.27,0.17,0.87]]\n",
    "\n",
    "weights1 = weights[0]\n",
    "weights2 = weights[1]\n",
    "weights3 = weights[2]\n",
    "\n",
    "biases = [2,3,0.5]\n",
    "\n",
    "bias1 = biases[0]\n",
    "bias2 = biases[1]\n",
    "bias3 = biases[2]\n",
    "\n",
    "output = [inputs[0] * weights1[0] + inputs[1] * weights1[1] + inputs[2] * weights1[2] + inputs[3] * weights1[3] + bias1,\n",
    "          inputs[1] * weights2[0] + inputs[1] * weights2[1] + inputs[2] * weights2[2] + inputs[3] * weights2[3] + bias2,\n",
    "          inputs[2] * weights3[0] + inputs[1] * weights2[1] + inputs[2] * weights3[2] + inputs[3] * weights3[3] + bias3]\n",
    "\n",
    "\n"
   ]
  }
 ],
 "metadata": {
  "kernelspec": {
   "display_name": "Python 3",
   "language": "python",
   "name": "python3"
  },
  "language_info": {
   "codemirror_mode": {
    "name": "ipython",
    "version": 3
   },
   "file_extension": ".py",
   "mimetype": "text/x-python",
   "name": "python",
   "nbconvert_exporter": "python",
   "pygments_lexer": "ipython3",
   "version": "3.12.4"
  }
 },
 "nbformat": 4,
 "nbformat_minor": 2
}
